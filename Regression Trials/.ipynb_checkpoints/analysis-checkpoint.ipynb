{
 "cells": [
  {
   "cell_type": "markdown",
   "metadata": {},
   "source": [
    "# Predicting Housing Prices\n",
    "#### Primary Data Source: https://www.ers.usda.gov/data-products/county-level-data-sets/download-data/"
   ]
  },
  {
   "cell_type": "markdown",
   "metadata": {},
   "source": [
    "# Initial Imports"
   ]
  },
  {
   "cell_type": "code",
   "execution_count": 235,
   "metadata": {},
   "outputs": [],
   "source": [
    "#Basics\n",
    "import pandas as pd\n",
    "import numpy as np\n",
    "from pathlib import Path\n",
    "\n",
    "# Sklearn\n",
    "from sklearn import preprocessing\n",
    "from sklearn.model_selection import train_test_split\n",
    "from sklearn.linear_model import LinearRegression\n",
    "from sklearn import metrics\n",
    "\n",
    "# Stats\n",
    "import statsmodels.api as sm\n",
    "import statsmodels.formula.api as smf\n",
    "\n",
    "# PyViz\n",
    "import matplotlib.pyplot as plt \n",
    "import plotly.express as px\n",
    "import hvplot.pandas\n",
    "import seaborn as sns"
   ]
  },
  {
   "cell_type": "markdown",
   "metadata": {},
   "source": [
    "# Reading in CSVs"
   ]
  },
  {
   "cell_type": "code",
   "execution_count": 236,
   "metadata": {},
   "outputs": [
    {
     "data": {
      "text/html": [
       "<div>\n",
       "<style scoped>\n",
       "    .dataframe tbody tr th:only-of-type {\n",
       "        vertical-align: middle;\n",
       "    }\n",
       "\n",
       "    .dataframe tbody tr th {\n",
       "        vertical-align: top;\n",
       "    }\n",
       "\n",
       "    .dataframe thead th {\n",
       "        text-align: right;\n",
       "    }\n",
       "</style>\n",
       "<table border=\"1\" class=\"dataframe\">\n",
       "  <thead>\n",
       "    <tr style=\"text-align: right;\">\n",
       "      <th></th>\n",
       "      <th></th>\n",
       "      <th></th>\n",
       "      <th></th>\n",
       "      <th>Population_Estimate</th>\n",
       "    </tr>\n",
       "    <tr>\n",
       "      <th>Date</th>\n",
       "      <th>FIPS</th>\n",
       "      <th>State</th>\n",
       "      <th>Area_Name</th>\n",
       "      <th></th>\n",
       "    </tr>\n",
       "  </thead>\n",
       "  <tbody>\n",
       "    <tr>\n",
       "      <th rowspan=\"5\" valign=\"top\">2014</th>\n",
       "      <th>1001.0</th>\n",
       "      <th>AL</th>\n",
       "      <th>Autauga County</th>\n",
       "      <td>54893.0</td>\n",
       "    </tr>\n",
       "    <tr>\n",
       "      <th>1003.0</th>\n",
       "      <th>AL</th>\n",
       "      <th>Baldwin County</th>\n",
       "      <td>199183.0</td>\n",
       "    </tr>\n",
       "    <tr>\n",
       "      <th>1005.0</th>\n",
       "      <th>AL</th>\n",
       "      <th>Barbour County</th>\n",
       "      <td>26755.0</td>\n",
       "    </tr>\n",
       "    <tr>\n",
       "      <th>1007.0</th>\n",
       "      <th>AL</th>\n",
       "      <th>Bibb County</th>\n",
       "      <td>22553.0</td>\n",
       "    </tr>\n",
       "    <tr>\n",
       "      <th>1009.0</th>\n",
       "      <th>AL</th>\n",
       "      <th>Blount County</th>\n",
       "      <td>57526.0</td>\n",
       "    </tr>\n",
       "  </tbody>\n",
       "</table>\n",
       "</div>"
      ],
      "text/plain": [
       "                                  Population_Estimate\n",
       "Date FIPS   State Area_Name                          \n",
       "2014 1001.0 AL    Autauga County              54893.0\n",
       "     1003.0 AL    Baldwin County             199183.0\n",
       "     1005.0 AL    Barbour County              26755.0\n",
       "     1007.0 AL    Bibb County                 22553.0\n",
       "     1009.0 AL    Blount County               57526.0"
      ]
     },
     "execution_count": 236,
     "metadata": {},
     "output_type": "execute_result"
    }
   ],
   "source": [
    "# Reading in Population Data\n",
    "population_path = Path(\"/Users/devinaamangal/Regression Trials/resources/PopulationEstimates.csv\")\n",
    "population_data = pd.read_csv(population_path, index_col=[\"Date\", \"FIPS\", \"State\", \"Area_Name\"], infer_datetime_format=True)\n",
    "population_data.head()"
   ]
  },
  {
   "cell_type": "code",
   "execution_count": 237,
   "metadata": {},
   "outputs": [
    {
     "data": {
      "text/html": [
       "<div>\n",
       "<style scoped>\n",
       "    .dataframe tbody tr th:only-of-type {\n",
       "        vertical-align: middle;\n",
       "    }\n",
       "\n",
       "    .dataframe tbody tr th {\n",
       "        vertical-align: top;\n",
       "    }\n",
       "\n",
       "    .dataframe thead th {\n",
       "        text-align: right;\n",
       "    }\n",
       "</style>\n",
       "<table border=\"1\" class=\"dataframe\">\n",
       "  <thead>\n",
       "    <tr style=\"text-align: right;\">\n",
       "      <th></th>\n",
       "      <th></th>\n",
       "      <th></th>\n",
       "      <th></th>\n",
       "      <th>Unemployement</th>\n",
       "    </tr>\n",
       "    <tr>\n",
       "      <th>Date</th>\n",
       "      <th>FIPS</th>\n",
       "      <th>State</th>\n",
       "      <th>Area_Name</th>\n",
       "      <th></th>\n",
       "    </tr>\n",
       "  </thead>\n",
       "  <tbody>\n",
       "    <tr>\n",
       "      <th rowspan=\"5\" valign=\"top\">2014</th>\n",
       "      <th>1001</th>\n",
       "      <th>AL</th>\n",
       "      <th>Autauga County</th>\n",
       "      <td>5.8</td>\n",
       "    </tr>\n",
       "    <tr>\n",
       "      <th>1003</th>\n",
       "      <th>AL</th>\n",
       "      <th>Baldwin County</th>\n",
       "      <td>6.1</td>\n",
       "    </tr>\n",
       "    <tr>\n",
       "      <th>1005</th>\n",
       "      <th>AL</th>\n",
       "      <th>Barbour County</th>\n",
       "      <td>10.5</td>\n",
       "    </tr>\n",
       "    <tr>\n",
       "      <th>1007</th>\n",
       "      <th>AL</th>\n",
       "      <th>Bibb County</th>\n",
       "      <td>7.2</td>\n",
       "    </tr>\n",
       "    <tr>\n",
       "      <th>1009</th>\n",
       "      <th>AL</th>\n",
       "      <th>Blount County</th>\n",
       "      <td>6.1</td>\n",
       "    </tr>\n",
       "  </tbody>\n",
       "</table>\n",
       "</div>"
      ],
      "text/plain": [
       "                                Unemployement\n",
       "Date FIPS State Area_Name                    \n",
       "2014 1001 AL    Autauga County            5.8\n",
       "     1003 AL    Baldwin County            6.1\n",
       "     1005 AL    Barbour County           10.5\n",
       "     1007 AL    Bibb County               7.2\n",
       "     1009 AL    Blount County             6.1"
      ]
     },
     "execution_count": 237,
     "metadata": {},
     "output_type": "execute_result"
    }
   ],
   "source": [
    "# Reading in Unemployment Data\n",
    "unemployment_path = Path(\"/Users/devinaamangal/Regression Trials/resources/Unemployment.csv\")\n",
    "unemployment_data = pd.read_csv(unemployment_path, index_col=[\"Date\", \"FIPS\", \"State\", \"Area_Name\"], infer_datetime_format=True)\n",
    "unemployment_data.head()"
   ]
  },
  {
   "cell_type": "code",
   "execution_count": 238,
   "metadata": {},
   "outputs": [
    {
     "data": {
      "text/html": [
       "<div>\n",
       "<style scoped>\n",
       "    .dataframe tbody tr th:only-of-type {\n",
       "        vertical-align: middle;\n",
       "    }\n",
       "\n",
       "    .dataframe tbody tr th {\n",
       "        vertical-align: top;\n",
       "    }\n",
       "\n",
       "    .dataframe thead th {\n",
       "        text-align: right;\n",
       "    }\n",
       "</style>\n",
       "<table border=\"1\" class=\"dataframe\">\n",
       "  <thead>\n",
       "    <tr style=\"text-align: right;\">\n",
       "      <th></th>\n",
       "      <th></th>\n",
       "      <th></th>\n",
       "      <th></th>\n",
       "      <th>Net_Migration</th>\n",
       "    </tr>\n",
       "    <tr>\n",
       "      <th>Date</th>\n",
       "      <th>FIPS</th>\n",
       "      <th>State</th>\n",
       "      <th>Area_Name</th>\n",
       "      <th></th>\n",
       "    </tr>\n",
       "  </thead>\n",
       "  <tbody>\n",
       "    <tr>\n",
       "      <th rowspan=\"5\" valign=\"top\">2014</th>\n",
       "      <th>1001.0</th>\n",
       "      <th>AL</th>\n",
       "      <th>Autauga County</th>\n",
       "      <td>108.0</td>\n",
       "    </tr>\n",
       "    <tr>\n",
       "      <th>1003.0</th>\n",
       "      <th>AL</th>\n",
       "      <th>Baldwin County</th>\n",
       "      <td>3977.0</td>\n",
       "    </tr>\n",
       "    <tr>\n",
       "      <th>1005.0</th>\n",
       "      <th>AL</th>\n",
       "      <th>Barbour County</th>\n",
       "      <td>-138.0</td>\n",
       "    </tr>\n",
       "    <tr>\n",
       "      <th>1007.0</th>\n",
       "      <th>AL</th>\n",
       "      <th>Bibb County</th>\n",
       "      <td>30.0</td>\n",
       "    </tr>\n",
       "    <tr>\n",
       "      <th>1009.0</th>\n",
       "      <th>AL</th>\n",
       "      <th>Blount County</th>\n",
       "      <td>-118.0</td>\n",
       "    </tr>\n",
       "  </tbody>\n",
       "</table>\n",
       "</div>"
      ],
      "text/plain": [
       "                                  Net_Migration\n",
       "Date FIPS   State Area_Name                    \n",
       "2014 1001.0 AL    Autauga County          108.0\n",
       "     1003.0 AL    Baldwin County         3977.0\n",
       "     1005.0 AL    Barbour County         -138.0\n",
       "     1007.0 AL    Bibb County              30.0\n",
       "     1009.0 AL    Blount County          -118.0"
      ]
     },
     "execution_count": 238,
     "metadata": {},
     "output_type": "execute_result"
    }
   ],
   "source": [
    "# Reading in Migration Data\n",
    "migration_path = Path(\"/Users/devinaamangal/Regression Trials/resources/Net_Migration.csv\")\n",
    "migration_data = pd.read_csv(migration_path, index_col=[\"Date\", \"FIPS\", \"State\", \"Area_Name\"], infer_datetime_format=True)\n",
    "migration_data.head()"
   ]
  },
  {
   "cell_type": "code",
   "execution_count": 239,
   "metadata": {},
   "outputs": [
    {
     "data": {
      "text/html": [
       "<div>\n",
       "<style scoped>\n",
       "    .dataframe tbody tr th:only-of-type {\n",
       "        vertical-align: middle;\n",
       "    }\n",
       "\n",
       "    .dataframe tbody tr th {\n",
       "        vertical-align: top;\n",
       "    }\n",
       "\n",
       "    .dataframe thead th {\n",
       "        text-align: right;\n",
       "    }\n",
       "</style>\n",
       "<table border=\"1\" class=\"dataframe\">\n",
       "  <thead>\n",
       "    <tr style=\"text-align: right;\">\n",
       "      <th></th>\n",
       "      <th></th>\n",
       "      <th></th>\n",
       "      <th></th>\n",
       "      <th>Housing_Prices</th>\n",
       "    </tr>\n",
       "    <tr>\n",
       "      <th>Date</th>\n",
       "      <th>FIPS</th>\n",
       "      <th>State</th>\n",
       "      <th>Area_Name</th>\n",
       "      <th></th>\n",
       "    </tr>\n",
       "  </thead>\n",
       "  <tbody>\n",
       "    <tr>\n",
       "      <th rowspan=\"5\" valign=\"top\">2014</th>\n",
       "      <th>1001.0</th>\n",
       "      <th>AL</th>\n",
       "      <th>Autauga County</th>\n",
       "      <td>22950.0</td>\n",
       "    </tr>\n",
       "    <tr>\n",
       "      <th>1003.0</th>\n",
       "      <th>AL</th>\n",
       "      <th>Baldwin County</th>\n",
       "      <td>108018.0</td>\n",
       "    </tr>\n",
       "    <tr>\n",
       "      <th>1005.0</th>\n",
       "      <th>AL</th>\n",
       "      <th>Barbour County</th>\n",
       "      <td>11923.0</td>\n",
       "    </tr>\n",
       "    <tr>\n",
       "      <th>1007.0</th>\n",
       "      <th>AL</th>\n",
       "      <th>Bibb County</th>\n",
       "      <td>9070.0</td>\n",
       "    </tr>\n",
       "    <tr>\n",
       "      <th>1009.0</th>\n",
       "      <th>AL</th>\n",
       "      <th>Blount County</th>\n",
       "      <td>24056.0</td>\n",
       "    </tr>\n",
       "  </tbody>\n",
       "</table>\n",
       "</div>"
      ],
      "text/plain": [
       "                                  Housing_Prices\n",
       "Date FIPS   State Area_Name                     \n",
       "2014 1001.0 AL    Autauga County         22950.0\n",
       "     1003.0 AL    Baldwin County        108018.0\n",
       "     1005.0 AL    Barbour County         11923.0\n",
       "     1007.0 AL    Bibb County             9070.0\n",
       "     1009.0 AL    Blount County          24056.0"
      ]
     },
     "execution_count": 239,
     "metadata": {},
     "output_type": "execute_result"
    }
   ],
   "source": [
    "# Reading in Housing Prices Data\n",
    "housing_path = Path(\"/Users/devinaamangal/Regression Trials/resources/Housing Prices.csv\")\n",
    "housing_data = pd.read_csv(housing_path, index_col=[\"Date\", \"FIPS\", \"State\", \"Area_Name\"], infer_datetime_format=True)\n",
    "housing_data.head()"
   ]
  },
  {
   "cell_type": "markdown",
   "metadata": {},
   "source": [
    "# Concatenate DataFrames"
   ]
  },
  {
   "cell_type": "code",
   "execution_count": 241,
   "metadata": {},
   "outputs": [
    {
     "data": {
      "text/html": [
       "<div>\n",
       "<style scoped>\n",
       "    .dataframe tbody tr th:only-of-type {\n",
       "        vertical-align: middle;\n",
       "    }\n",
       "\n",
       "    .dataframe tbody tr th {\n",
       "        vertical-align: top;\n",
       "    }\n",
       "\n",
       "    .dataframe thead th {\n",
       "        text-align: right;\n",
       "    }\n",
       "</style>\n",
       "<table border=\"1\" class=\"dataframe\">\n",
       "  <thead>\n",
       "    <tr style=\"text-align: right;\">\n",
       "      <th></th>\n",
       "      <th></th>\n",
       "      <th></th>\n",
       "      <th></th>\n",
       "      <th>Population_Estimate</th>\n",
       "      <th>Unemployement</th>\n",
       "      <th>Net_Migration</th>\n",
       "      <th>Housing_Prices</th>\n",
       "    </tr>\n",
       "    <tr>\n",
       "      <th>Date</th>\n",
       "      <th>FIPS</th>\n",
       "      <th>State</th>\n",
       "      <th>Area_Name</th>\n",
       "      <th></th>\n",
       "      <th></th>\n",
       "      <th></th>\n",
       "      <th></th>\n",
       "    </tr>\n",
       "  </thead>\n",
       "  <tbody>\n",
       "    <tr>\n",
       "      <th rowspan=\"5\" valign=\"top\">2014</th>\n",
       "      <th>1001.0</th>\n",
       "      <th>AL</th>\n",
       "      <th>Autauga County</th>\n",
       "      <td>54893.0</td>\n",
       "      <td>5.8</td>\n",
       "      <td>108.0</td>\n",
       "      <td>22950.0</td>\n",
       "    </tr>\n",
       "    <tr>\n",
       "      <th>1003.0</th>\n",
       "      <th>AL</th>\n",
       "      <th>Baldwin County</th>\n",
       "      <td>199183.0</td>\n",
       "      <td>6.1</td>\n",
       "      <td>3977.0</td>\n",
       "      <td>108018.0</td>\n",
       "    </tr>\n",
       "    <tr>\n",
       "      <th>1005.0</th>\n",
       "      <th>AL</th>\n",
       "      <th>Barbour County</th>\n",
       "      <td>26755.0</td>\n",
       "      <td>10.5</td>\n",
       "      <td>-138.0</td>\n",
       "      <td>11923.0</td>\n",
       "    </tr>\n",
       "    <tr>\n",
       "      <th>1007.0</th>\n",
       "      <th>AL</th>\n",
       "      <th>Bibb County</th>\n",
       "      <td>22553.0</td>\n",
       "      <td>7.2</td>\n",
       "      <td>30.0</td>\n",
       "      <td>9070.0</td>\n",
       "    </tr>\n",
       "    <tr>\n",
       "      <th>1009.0</th>\n",
       "      <th>AL</th>\n",
       "      <th>Blount County</th>\n",
       "      <td>57526.0</td>\n",
       "      <td>6.1</td>\n",
       "      <td>-118.0</td>\n",
       "      <td>24056.0</td>\n",
       "    </tr>\n",
       "  </tbody>\n",
       "</table>\n",
       "</div>"
      ],
      "text/plain": [
       "                                  Population_Estimate  Unemployement  \\\n",
       "Date FIPS   State Area_Name                                            \n",
       "2014 1001.0 AL    Autauga County              54893.0            5.8   \n",
       "     1003.0 AL    Baldwin County             199183.0            6.1   \n",
       "     1005.0 AL    Barbour County              26755.0           10.5   \n",
       "     1007.0 AL    Bibb County                 22553.0            7.2   \n",
       "     1009.0 AL    Blount County               57526.0            6.1   \n",
       "\n",
       "                                  Net_Migration  Housing_Prices  \n",
       "Date FIPS   State Area_Name                                      \n",
       "2014 1001.0 AL    Autauga County          108.0         22950.0  \n",
       "     1003.0 AL    Baldwin County         3977.0        108018.0  \n",
       "     1005.0 AL    Barbour County         -138.0         11923.0  \n",
       "     1007.0 AL    Bibb County              30.0          9070.0  \n",
       "     1009.0 AL    Blount County          -118.0         24056.0  "
      ]
     },
     "execution_count": 241,
     "metadata": {},
     "output_type": "execute_result"
    }
   ],
   "source": [
    "# Joining Data Frames\n",
    "combined_df = pd.concat([population_data,unemployment_data, migration_data, housing_data], axis='columns')\n",
    "combined_df.head()"
   ]
  },
  {
   "cell_type": "markdown",
   "metadata": {},
   "source": [
    "#### Data Cleaning"
   ]
  },
  {
   "cell_type": "code",
   "execution_count": 242,
   "metadata": {},
   "outputs": [
    {
     "data": {
      "text/plain": [
       "Population_Estimate    17\n",
       "Unemployement          23\n",
       "Net_Migration          17\n",
       "Housing_Prices         17\n",
       "dtype: int64"
      ]
     },
     "execution_count": 242,
     "metadata": {},
     "output_type": "execute_result"
    }
   ],
   "source": [
    "# Check for Null Values\n",
    "combined_df.isnull().sum()"
   ]
  },
  {
   "cell_type": "code",
   "execution_count": 243,
   "metadata": {},
   "outputs": [
    {
     "data": {
      "text/html": [
       "<div>\n",
       "<style scoped>\n",
       "    .dataframe tbody tr th:only-of-type {\n",
       "        vertical-align: middle;\n",
       "    }\n",
       "\n",
       "    .dataframe tbody tr th {\n",
       "        vertical-align: top;\n",
       "    }\n",
       "\n",
       "    .dataframe thead th {\n",
       "        text-align: right;\n",
       "    }\n",
       "</style>\n",
       "<table border=\"1\" class=\"dataframe\">\n",
       "  <thead>\n",
       "    <tr style=\"text-align: right;\">\n",
       "      <th></th>\n",
       "      <th></th>\n",
       "      <th></th>\n",
       "      <th></th>\n",
       "      <th>Population_Estimate</th>\n",
       "      <th>Unemployement</th>\n",
       "      <th>Net_Migration</th>\n",
       "      <th>Housing_Prices</th>\n",
       "    </tr>\n",
       "    <tr>\n",
       "      <th>Date</th>\n",
       "      <th>FIPS</th>\n",
       "      <th>State</th>\n",
       "      <th>Area_Name</th>\n",
       "      <th></th>\n",
       "      <th></th>\n",
       "      <th></th>\n",
       "      <th></th>\n",
       "    </tr>\n",
       "  </thead>\n",
       "  <tbody>\n",
       "    <tr>\n",
       "      <th rowspan=\"5\" valign=\"top\">2014</th>\n",
       "      <th>1001.0</th>\n",
       "      <th>AL</th>\n",
       "      <th>Autauga County</th>\n",
       "      <td>54893.0</td>\n",
       "      <td>5.8</td>\n",
       "      <td>108.0</td>\n",
       "      <td>22950.0</td>\n",
       "    </tr>\n",
       "    <tr>\n",
       "      <th>1003.0</th>\n",
       "      <th>AL</th>\n",
       "      <th>Baldwin County</th>\n",
       "      <td>199183.0</td>\n",
       "      <td>6.1</td>\n",
       "      <td>3977.0</td>\n",
       "      <td>108018.0</td>\n",
       "    </tr>\n",
       "    <tr>\n",
       "      <th>1005.0</th>\n",
       "      <th>AL</th>\n",
       "      <th>Barbour County</th>\n",
       "      <td>26755.0</td>\n",
       "      <td>10.5</td>\n",
       "      <td>-138.0</td>\n",
       "      <td>11923.0</td>\n",
       "    </tr>\n",
       "    <tr>\n",
       "      <th>1007.0</th>\n",
       "      <th>AL</th>\n",
       "      <th>Bibb County</th>\n",
       "      <td>22553.0</td>\n",
       "      <td>7.2</td>\n",
       "      <td>30.0</td>\n",
       "      <td>9070.0</td>\n",
       "    </tr>\n",
       "    <tr>\n",
       "      <th>1009.0</th>\n",
       "      <th>AL</th>\n",
       "      <th>Blount County</th>\n",
       "      <td>57526.0</td>\n",
       "      <td>6.1</td>\n",
       "      <td>-118.0</td>\n",
       "      <td>24056.0</td>\n",
       "    </tr>\n",
       "  </tbody>\n",
       "</table>\n",
       "</div>"
      ],
      "text/plain": [
       "                                  Population_Estimate  Unemployement  \\\n",
       "Date FIPS   State Area_Name                                            \n",
       "2014 1001.0 AL    Autauga County              54893.0            5.8   \n",
       "     1003.0 AL    Baldwin County             199183.0            6.1   \n",
       "     1005.0 AL    Barbour County              26755.0           10.5   \n",
       "     1007.0 AL    Bibb County                 22553.0            7.2   \n",
       "     1009.0 AL    Blount County               57526.0            6.1   \n",
       "\n",
       "                                  Net_Migration  Housing_Prices  \n",
       "Date FIPS   State Area_Name                                      \n",
       "2014 1001.0 AL    Autauga County          108.0         22950.0  \n",
       "     1003.0 AL    Baldwin County         3977.0        108018.0  \n",
       "     1005.0 AL    Barbour County         -138.0         11923.0  \n",
       "     1007.0 AL    Bibb County              30.0          9070.0  \n",
       "     1009.0 AL    Blount County          -118.0         24056.0  "
      ]
     },
     "execution_count": 243,
     "metadata": {},
     "output_type": "execute_result"
    }
   ],
   "source": [
    "# Drop Null Values\n",
    "combined_df = combined_df.dropna().copy()\n",
    "combined_df.head()"
   ]
  },
  {
   "cell_type": "code",
   "execution_count": 244,
   "metadata": {},
   "outputs": [
    {
     "name": "stdout",
     "output_type": "stream",
     "text": [
      "<class 'pandas.core.frame.DataFrame'>\n",
      "MultiIndex: 18840 entries, (2014, 1001.0, AL, Autauga County) to (2019, 56045.0, WY, Weston County)\n",
      "Data columns (total 4 columns):\n",
      "Population_Estimate    18840 non-null float64\n",
      "Unemployement          18840 non-null float64\n",
      "Net_Migration          18840 non-null float64\n",
      "Housing_Prices         18840 non-null float64\n",
      "dtypes: float64(4)\n",
      "memory usage: 739.0+ KB\n"
     ]
    }
   ],
   "source": [
    "# Gather information about the DataFrame\n",
    "combined_df.info()"
   ]
  },
  {
   "cell_type": "markdown",
   "metadata": {},
   "source": [
    "# Graphical Analysis"
   ]
  },
  {
   "cell_type": "code",
   "execution_count": 253,
   "metadata": {},
   "outputs": [
    {
     "data": {},
     "metadata": {},
     "output_type": "display_data"
    },
    {
     "data": {
      "application/vnd.holoviews_exec.v0+json": "",
      "text/html": [
       "<div id='12720'>\n",
       "\n",
       "\n",
       "\n",
       "\n",
       "\n",
       "  <div class=\"bk-root\" id=\"fe3b2037-78f9-4398-92c0-4bb0c22065fe\" data-root-id=\"12720\"></div>\n",
       "</div>\n",
       "<script type=\"application/javascript\">(function(root) {\n",
       "  function embed_document(root) {\n",
       "    var docs_json = {\"188fca1d-469b-438c-9314-eb81f07d8da9\":{\"roots\":{\"references\":[{\"attributes\":{\"active_drag\":\"auto\",\"active_inspect\":\"auto\",\"active_multi\":null,\"active_scroll\":\"auto\",\"active_tap\":\"auto\",\"tools\":[{\"id\":\"12724\"},{\"id\":\"12742\"},{\"id\":\"12743\"},{\"id\":\"12744\"},{\"id\":\"12745\"},{\"id\":\"12746\"}]},\"id\":\"12748\",\"type\":\"Toolbar\"},{\"attributes\":{\"children\":[{\"id\":\"12721\"},{\"id\":\"12725\"},{\"id\":\"12787\"},{\"id\":\"12788\"}],\"margin\":[0,0,0,0],\"name\":\"Row23964\"},\"id\":\"12720\",\"type\":\"Row\"},{\"attributes\":{},\"id\":\"12743\",\"type\":\"PanTool\"},{\"attributes\":{},\"id\":\"12766\",\"type\":\"BasicTickFormatter\"},{\"attributes\":{\"below\":[{\"id\":\"12734\"}],\"center\":[{\"id\":\"12737\"},{\"id\":\"12741\"}],\"left\":[{\"id\":\"12738\"}],\"margin\":[5,5,5,5],\"min_border_bottom\":10,\"min_border_left\":10,\"min_border_right\":10,\"min_border_top\":10,\"plot_height\":300,\"plot_width\":700,\"renderers\":[{\"id\":\"12761\"}],\"sizing_mode\":\"fixed\",\"title\":{\"id\":\"12726\"},\"toolbar\":{\"id\":\"12748\"},\"x_range\":{\"id\":\"12722\"},\"x_scale\":{\"id\":\"12730\"},\"y_range\":{\"id\":\"12723\"},\"y_scale\":{\"id\":\"12732\"}},\"id\":\"12725\",\"subtype\":\"Figure\",\"type\":\"Plot\"},{\"attributes\":{\"line_color\":\"#440154\",\"line_width\":2,\"x\":{\"field\":\"Date\"},\"y\":{\"field\":\"Housing_Prices\"}},\"id\":\"12758\",\"type\":\"Line\"},{\"attributes\":{},\"id\":\"12739\",\"type\":\"BasicTicker\"},{\"attributes\":{},\"id\":\"12764\",\"type\":\"BasicTickFormatter\"},{\"attributes\":{},\"id\":\"12732\",\"type\":\"LinearScale\"},{\"attributes\":{},\"id\":\"12746\",\"type\":\"ResetTool\"},{\"attributes\":{\"text\":\"Average price change per state\",\"text_color\":{\"value\":\"black\"},\"text_font_size\":{\"value\":\"12pt\"}},\"id\":\"12726\",\"type\":\"Title\"},{\"attributes\":{\"source\":{\"id\":\"12755\"}},\"id\":\"12762\",\"type\":\"CDSView\"},{\"attributes\":{\"data\":{\"Date\":[2014,2015,2016,2017,2018,2019],\"Housing_Prices\":{\"__ndarray__\":\"NcJyTyMKxUA1wnJPoyTFQCMs9zRCPcVAc08jLPdXxUDUCMs9DXDFQJZ7GmG5isVA\",\"dtype\":\"float64\",\"order\":\"little\",\"shape\":[6]}},\"selected\":{\"id\":\"12756\"},\"selection_policy\":{\"id\":\"12777\"}},\"id\":\"12755\",\"type\":\"ColumnDataSource\"},{\"attributes\":{\"children\":[{\"id\":\"12789\"},{\"id\":\"12790\"},{\"id\":\"12792\"}],\"margin\":[0,0,0,0],\"name\":\"Column23972\"},\"id\":\"12788\",\"type\":\"Column\"},{\"attributes\":{},\"id\":\"12735\",\"type\":\"BasicTicker\"},{\"attributes\":{\"end\":2019.0,\"reset_end\":2019.0,\"reset_start\":2014.0,\"start\":2014.0,\"tags\":[[[\"Date\",\"Date\",null]]]},\"id\":\"12722\",\"type\":\"Range1d\"},{\"attributes\":{\"margin\":[5,5,5,5],\"name\":\"HSpacer23974\",\"sizing_mode\":\"stretch_width\"},\"id\":\"12787\",\"type\":\"Spacer\"},{\"attributes\":{\"axis_label\":\"Date\",\"bounds\":\"auto\",\"formatter\":{\"id\":\"12764\"},\"major_label_orientation\":\"horizontal\",\"ticker\":{\"id\":\"12735\"}},\"id\":\"12734\",\"type\":\"LinearAxis\"},{\"attributes\":{},\"id\":\"12756\",\"type\":\"Selection\"},{\"attributes\":{\"margin\":[5,5,5,5],\"name\":\"VSpacer23970\",\"sizing_mode\":\"stretch_height\"},\"id\":\"12789\",\"type\":\"Spacer\"},{\"attributes\":{\"children\":[{\"id\":\"12791\"}],\"css_classes\":[\"panel-widget-box\"],\"margin\":[5,5,5,5],\"name\":\"WidgetBox23965\"},\"id\":\"12790\",\"type\":\"Column\"},{\"attributes\":{},\"id\":\"12730\",\"type\":\"LinearScale\"},{\"attributes\":{},\"id\":\"12744\",\"type\":\"WheelZoomTool\"},{\"attributes\":{\"callback\":null,\"renderers\":[{\"id\":\"12761\"}],\"tags\":[\"hv_created\"],\"tooltips\":[[\"Date\",\"@{Date}\"],[\"Housing_Prices\",\"@{Housing_Prices}\"]]},\"id\":\"12724\",\"type\":\"HoverTool\"},{\"attributes\":{\"margin\":[20,20,20,20],\"min_width\":250,\"options\":[\"AK\",\"AL\",\"AR\",\"AZ\",\"CA\",\"CO\",\"CT\",\"DE\",\"FL\",\"GA\",\"HI\",\"IA\",\"ID\",\"IL\",\"IN\",\"KS\",\"KY\",\"LA\",\"MA\",\"MD\",\"ME\",\"MI\",\"MN\",\"MO\",\"MS\",\"MT\",\"NC\",\"ND\",\"NE\",\"NH\",\"NJ\",\"NM\",\"NV\",\"NY\",\"OH\",\"OK\",\"OR\",\"PA\",\"RI\",\"SC\",\"SD\",\"TN\",\"TX\",\"UT\",\"VA\",\"VT\",\"WA\",\"WI\",\"WV\",\"WY\"],\"title\":\"State\",\"value\":\"AK\",\"width\":250},\"id\":\"12791\",\"type\":\"Select\"},{\"attributes\":{\"margin\":[5,5,5,5],\"name\":\"VSpacer23971\",\"sizing_mode\":\"stretch_height\"},\"id\":\"12792\",\"type\":\"Spacer\"},{\"attributes\":{\"axis_label\":\"Housing_Prices\",\"bounds\":\"auto\",\"formatter\":{\"id\":\"12766\"},\"major_label_orientation\":\"horizontal\",\"ticker\":{\"id\":\"12739\"}},\"id\":\"12738\",\"type\":\"LinearAxis\"},{\"attributes\":{\"data_source\":{\"id\":\"12755\"},\"glyph\":{\"id\":\"12758\"},\"hover_glyph\":null,\"muted_glyph\":{\"id\":\"12760\"},\"nonselection_glyph\":{\"id\":\"12759\"},\"selection_glyph\":null,\"view\":{\"id\":\"12762\"}},\"id\":\"12761\",\"type\":\"GlyphRenderer\"},{\"attributes\":{\"end\":11055.16551724138,\"reset_end\":11055.16551724138,\"reset_start\":10746.558620689655,\"start\":10746.558620689655,\"tags\":[[[\"Housing_Prices\",\"Housing_Prices\",null]]]},\"id\":\"12723\",\"type\":\"Range1d\"},{\"attributes\":{\"bottom_units\":\"screen\",\"fill_alpha\":0.5,\"fill_color\":\"lightgrey\",\"left_units\":\"screen\",\"level\":\"overlay\",\"line_alpha\":1.0,\"line_color\":\"black\",\"line_dash\":[4,4],\"line_width\":2,\"right_units\":\"screen\",\"top_units\":\"screen\"},\"id\":\"12747\",\"type\":\"BoxAnnotation\"},{\"attributes\":{},\"id\":\"12777\",\"type\":\"UnionRenderers\"},{\"attributes\":{\"axis\":{\"id\":\"12734\"},\"grid_line_color\":null,\"ticker\":null},\"id\":\"12737\",\"type\":\"Grid\"},{\"attributes\":{},\"id\":\"12742\",\"type\":\"SaveTool\"},{\"attributes\":{\"client_comm_id\":\"68dcdf0903c342e998d8e56feadbd864\",\"comm_id\":\"e4f59d0d0ccb43e4b82be4ea854ccfc5\",\"plot_id\":\"12720\"},\"id\":\"12817\",\"type\":\"panel.models.comm_manager.CommManager\"},{\"attributes\":{\"line_alpha\":0.2,\"line_color\":\"#440154\",\"line_width\":2,\"x\":{\"field\":\"Date\"},\"y\":{\"field\":\"Housing_Prices\"}},\"id\":\"12760\",\"type\":\"Line\"},{\"attributes\":{\"axis\":{\"id\":\"12738\"},\"dimension\":1,\"grid_line_color\":null,\"ticker\":null},\"id\":\"12741\",\"type\":\"Grid\"},{\"attributes\":{\"overlay\":{\"id\":\"12747\"}},\"id\":\"12745\",\"type\":\"BoxZoomTool\"},{\"attributes\":{\"margin\":[5,5,5,5],\"name\":\"HSpacer23973\",\"sizing_mode\":\"stretch_width\"},\"id\":\"12721\",\"type\":\"Spacer\"},{\"attributes\":{\"line_alpha\":0.1,\"line_color\":\"#440154\",\"line_width\":2,\"x\":{\"field\":\"Date\"},\"y\":{\"field\":\"Housing_Prices\"}},\"id\":\"12759\",\"type\":\"Line\"}],\"root_ids\":[\"12720\",\"12817\"]},\"title\":\"Bokeh Application\",\"version\":\"2.2.3\"}};\n",
       "    var render_items = [{\"docid\":\"188fca1d-469b-438c-9314-eb81f07d8da9\",\"root_ids\":[\"12720\"],\"roots\":{\"12720\":\"fe3b2037-78f9-4398-92c0-4bb0c22065fe\"}}];\n",
       "    root.Bokeh.embed.embed_items_notebook(docs_json, render_items);\n",
       "  }\n",
       "  if (root.Bokeh !== undefined && root.Bokeh.Panel !== undefined) {\n",
       "    embed_document(root);\n",
       "  } else {\n",
       "    var attempts = 0;\n",
       "    var timer = setInterval(function(root) {\n",
       "      if (root.Bokeh !== undefined && root.Bokeh.Panel !== undefined) {\n",
       "        clearInterval(timer);\n",
       "        embed_document(root);\n",
       "      } else if (document.readyState == \"complete\") {\n",
       "        attempts++;\n",
       "        if (attempts > 100) {\n",
       "          clearInterval(timer);\n",
       "          console.log(\"Bokeh: ERROR: Unable to run BokehJS code because BokehJS library is missing\");\n",
       "        }\n",
       "      }\n",
       "    }, 10, root)\n",
       "  }\n",
       "})(window);</script>"
      ],
      "text/plain": [
       ":DynamicMap   [State]\n",
       "   :Curve   [Date]   (Housing_Prices)"
      ]
     },
     "execution_count": 253,
     "metadata": {
      "application/vnd.holoviews_exec.v0+json": {
       "id": "12720"
      }
     },
     "output_type": "execute_result"
    }
   ],
   "source": [
    "# Average Prices changes per State\n",
    "combined_group_1 = combined_df.groupby(['Date','State']).mean()\n",
    "combined_group_1.head()\n",
    "price_plot = combined_group_1.hvplot.line(\n",
    "             x=\"Date\",\n",
    "             y=\"Housing_Prices\",\n",
    "             colormap=\"viridis\",\n",
    "             title=\"Average price change per state\",\n",
    "        groupby = [\"State\"]\n",
    "    )\n",
    "price_plot"
   ]
  },
  {
   "cell_type": "code",
   "execution_count": 254,
   "metadata": {},
   "outputs": [
    {
     "data": {},
     "metadata": {},
     "output_type": "display_data"
    },
    {
     "data": {
      "application/vnd.holoviews_exec.v0+json": "",
      "text/html": [
       "<div id='12858'>\n",
       "\n",
       "\n",
       "\n",
       "\n",
       "\n",
       "  <div class=\"bk-root\" id=\"fd07869d-5731-4b98-b2d8-a3b9c5e7be21\" data-root-id=\"12858\"></div>\n",
       "</div>\n",
       "<script type=\"application/javascript\">(function(root) {\n",
       "  function embed_document(root) {\n",
       "    var docs_json = {\"09df8e71-8485-4f3f-a316-45234b6cf934\":{\"roots\":{\"references\":[{\"attributes\":{\"fill_alpha\":{\"value\":0.2},\"fill_color\":{\"value\":\"#1f77b3\"},\"line_alpha\":{\"value\":0.2},\"top\":{\"field\":\"Housing_Prices\"},\"width\":{\"value\":0.8},\"x\":{\"field\":\"State\"}},\"id\":\"12897\",\"type\":\"VBar\"},{\"attributes\":{},\"id\":\"12880\",\"type\":\"PanTool\"},{\"attributes\":{},\"id\":\"12893\",\"type\":\"Selection\"},{\"attributes\":{},\"id\":\"12881\",\"type\":\"WheelZoomTool\"},{\"attributes\":{\"children\":[{\"id\":\"12859\"},{\"id\":\"12863\"},{\"id\":\"12920\"}],\"margin\":[0,0,0,0],\"name\":\"Row24271\",\"tags\":[\"embedded\"]},\"id\":\"12858\",\"type\":\"Row\"},{\"attributes\":{\"axis\":{\"id\":\"12875\"},\"dimension\":1,\"grid_line_color\":null,\"ticker\":null},\"id\":\"12878\",\"type\":\"Grid\"},{\"attributes\":{\"callback\":null,\"renderers\":[{\"id\":\"12898\"}],\"tags\":[\"hv_created\"],\"tooltips\":[[\"State\",\"@{State}\"],[\"Housing_Prices\",\"@{Housing_Prices}\"]]},\"id\":\"12862\",\"type\":\"HoverTool\"},{\"attributes\":{\"overlay\":{\"id\":\"12884\"}},\"id\":\"12882\",\"type\":\"BoxZoomTool\"},{\"attributes\":{\"fill_color\":{\"value\":\"#1f77b3\"},\"top\":{\"field\":\"Housing_Prices\"},\"width\":{\"value\":0.8},\"x\":{\"field\":\"State\"}},\"id\":\"12895\",\"type\":\"VBar\"},{\"attributes\":{},\"id\":\"12903\",\"type\":\"BasicTickFormatter\"},{\"attributes\":{\"below\":[{\"id\":\"12872\"}],\"center\":[{\"id\":\"12874\"},{\"id\":\"12878\"}],\"left\":[{\"id\":\"12875\"}],\"margin\":[5,5,5,5],\"min_border_bottom\":10,\"min_border_left\":10,\"min_border_right\":10,\"min_border_top\":10,\"plot_height\":300,\"plot_width\":700,\"renderers\":[{\"id\":\"12898\"}],\"sizing_mode\":\"fixed\",\"title\":{\"id\":\"12864\"},\"toolbar\":{\"id\":\"12885\"},\"x_range\":{\"id\":\"12860\"},\"x_scale\":{\"id\":\"12868\"},\"y_range\":{\"id\":\"12861\"},\"y_scale\":{\"id\":\"12870\"}},\"id\":\"12863\",\"subtype\":\"Figure\",\"type\":\"Plot\"},{\"attributes\":{},\"id\":\"12870\",\"type\":\"LinearScale\"},{\"attributes\":{},\"id\":\"12883\",\"type\":\"ResetTool\"},{\"attributes\":{},\"id\":\"12873\",\"type\":\"CategoricalTicker\"},{\"attributes\":{},\"id\":\"12868\",\"type\":\"CategoricalScale\"},{\"attributes\":{\"axis_label\":\"State\",\"bounds\":\"auto\",\"formatter\":{\"id\":\"12901\"},\"major_label_orientation\":\"horizontal\",\"ticker\":{\"id\":\"12873\"}},\"id\":\"12872\",\"type\":\"CategoricalAxis\"},{\"attributes\":{\"text\":\"Top 10 Most Expensive States to Buy Homes\",\"text_color\":{\"value\":\"black\"},\"text_font_size\":{\"value\":\"12pt\"}},\"id\":\"12864\",\"type\":\"Title\"},{\"attributes\":{\"data\":{\"Housing_Prices\":{\"__ndarray__\":\"AAAAmKg2lEEAAACI4w2PQQAAAIAl5opBAAAAwDLDh0EAAACYgEKAQQAAAJAgon5BAAAAkJu6fUEAAAAgHVR6QQAAAJBGQnpBAAAAsDBleEE=\",\"dtype\":\"float64\",\"order\":\"little\",\"shape\":[10]},\"State\":[\"CA\",\"TX\",\"FL\",\"NY\",\"PA\",\"IL\",\"OH\",\"NC\",\"MI\",\"GA\"]},\"selected\":{\"id\":\"12893\"},\"selection_policy\":{\"id\":\"12910\"}},\"id\":\"12892\",\"type\":\"ColumnDataSource\"},{\"attributes\":{\"factors\":[\"CA\",\"TX\",\"FL\",\"NY\",\"PA\",\"IL\",\"OH\",\"NC\",\"MI\",\"GA\"],\"tags\":[[[\"State\",\"State\",null]]]},\"id\":\"12860\",\"type\":\"FactorRange\"},{\"attributes\":{},\"id\":\"12910\",\"type\":\"UnionRenderers\"},{\"attributes\":{\"axis\":{\"id\":\"12872\"},\"grid_line_color\":null,\"ticker\":null},\"id\":\"12874\",\"type\":\"Grid\"},{\"attributes\":{},\"id\":\"12876\",\"type\":\"BasicTicker\"},{\"attributes\":{\"axis_label\":\"Housing_Prices\",\"bounds\":\"auto\",\"formatter\":{\"id\":\"12903\"},\"major_label_orientation\":\"horizontal\",\"ticker\":{\"id\":\"12876\"}},\"id\":\"12875\",\"type\":\"LinearAxis\"},{\"attributes\":{\"fill_alpha\":{\"value\":0.1},\"fill_color\":{\"value\":\"#1f77b3\"},\"line_alpha\":{\"value\":0.1},\"top\":{\"field\":\"Housing_Prices\"},\"width\":{\"value\":0.8},\"x\":{\"field\":\"State\"}},\"id\":\"12896\",\"type\":\"VBar\"},{\"attributes\":{\"bottom_units\":\"screen\",\"fill_alpha\":0.5,\"fill_color\":\"lightgrey\",\"left_units\":\"screen\",\"level\":\"overlay\",\"line_alpha\":1.0,\"line_color\":\"black\",\"line_dash\":[4,4],\"line_width\":2,\"right_units\":\"screen\",\"top_units\":\"screen\"},\"id\":\"12884\",\"type\":\"BoxAnnotation\"},{\"attributes\":{\"source\":{\"id\":\"12892\"}},\"id\":\"12899\",\"type\":\"CDSView\"},{\"attributes\":{\"margin\":[5,5,5,5],\"name\":\"HSpacer24276\",\"sizing_mode\":\"stretch_width\"},\"id\":\"12920\",\"type\":\"Spacer\"},{\"attributes\":{\"margin\":[5,5,5,5],\"name\":\"HSpacer24275\",\"sizing_mode\":\"stretch_width\"},\"id\":\"12859\",\"type\":\"Spacer\"},{\"attributes\":{\"data_source\":{\"id\":\"12892\"},\"glyph\":{\"id\":\"12895\"},\"hover_glyph\":null,\"muted_glyph\":{\"id\":\"12897\"},\"nonselection_glyph\":{\"id\":\"12896\"},\"selection_glyph\":null,\"view\":{\"id\":\"12899\"}},\"id\":\"12898\",\"type\":\"GlyphRenderer\"},{\"attributes\":{\"active_drag\":\"auto\",\"active_inspect\":\"auto\",\"active_multi\":null,\"active_scroll\":\"auto\",\"active_tap\":\"auto\",\"tools\":[{\"id\":\"12862\"},{\"id\":\"12879\"},{\"id\":\"12880\"},{\"id\":\"12881\"},{\"id\":\"12882\"},{\"id\":\"12883\"}]},\"id\":\"12885\",\"type\":\"Toolbar\"},{\"attributes\":{},\"id\":\"12901\",\"type\":\"CategoricalTickFormatter\"},{\"attributes\":{\"end\":90701736.7,\"reset_end\":90701736.7,\"reset_start\":0.0,\"tags\":[[[\"Housing_Prices\",\"Housing_Prices\",null]]]},\"id\":\"12861\",\"type\":\"Range1d\"},{\"attributes\":{},\"id\":\"12879\",\"type\":\"SaveTool\"}],\"root_ids\":[\"12858\"]},\"title\":\"Bokeh Application\",\"version\":\"2.2.3\"}};\n",
       "    var render_items = [{\"docid\":\"09df8e71-8485-4f3f-a316-45234b6cf934\",\"root_ids\":[\"12858\"],\"roots\":{\"12858\":\"fd07869d-5731-4b98-b2d8-a3b9c5e7be21\"}}];\n",
       "    root.Bokeh.embed.embed_items_notebook(docs_json, render_items);\n",
       "  }\n",
       "  if (root.Bokeh !== undefined && root.Bokeh.Panel !== undefined) {\n",
       "    embed_document(root);\n",
       "  } else {\n",
       "    var attempts = 0;\n",
       "    var timer = setInterval(function(root) {\n",
       "      if (root.Bokeh !== undefined && root.Bokeh.Panel !== undefined) {\n",
       "        clearInterval(timer);\n",
       "        embed_document(root);\n",
       "      } else if (document.readyState == \"complete\") {\n",
       "        attempts++;\n",
       "        if (attempts > 100) {\n",
       "          clearInterval(timer);\n",
       "          console.log(\"Bokeh: ERROR: Unable to run BokehJS code because BokehJS library is missing\");\n",
       "        }\n",
       "      }\n",
       "    }, 10, root)\n",
       "  }\n",
       "})(window);</script>"
      ],
      "text/plain": [
       ":Bars   [State]   (Housing_Prices)"
      ]
     },
     "execution_count": 254,
     "metadata": {
      "application/vnd.holoviews_exec.v0+json": {
       "id": "12858"
      }
     },
     "output_type": "execute_result"
    }
   ],
   "source": [
    "# Top 10 most expensive states to buy homes in\n",
    "combined_group_2 = combined_df.groupby(['State']).sum()\n",
    "combined_group_2 = combined_group_2.drop(columns= [\"Unemployement\", \"Population_Estimate\", \"Net_Migration\"])\n",
    "combined_group_2 = combined_group_2.sort_values('Housing_Prices', ascending=False)\n",
    "combined_group_2 = combined_group_2.iloc[:10]\n",
    "combined_group_2.hvplot.bar(label=\"Top 10 Most Expensive States to Buy Homes\")"
   ]
  },
  {
   "cell_type": "code",
   "execution_count": 255,
   "metadata": {},
   "outputs": [
    {
     "data": {},
     "metadata": {},
     "output_type": "display_data"
    },
    {
     "data": {
      "application/vnd.holoviews_exec.v0+json": "",
      "text/html": [
       "<div id='12962'>\n",
       "\n",
       "\n",
       "\n",
       "\n",
       "\n",
       "  <div class=\"bk-root\" id=\"433cbeb8-2b00-4691-8f2e-a8ff24aa89e2\" data-root-id=\"12962\"></div>\n",
       "</div>\n",
       "<script type=\"application/javascript\">(function(root) {\n",
       "  function embed_document(root) {\n",
       "    var docs_json = {\"c6f5a8f1-5d3c-4724-a14d-d7d184a55196\":{\"roots\":{\"references\":[{\"attributes\":{\"overlay\":{\"id\":\"12988\"}},\"id\":\"12986\",\"type\":\"BoxZoomTool\"},{\"attributes\":{\"fill_color\":{\"value\":\"#440154\"},\"top\":{\"field\":\"Unemployement\"},\"width\":{\"value\":0.8},\"x\":{\"field\":\"State\"}},\"id\":\"12999\",\"type\":\"VBar\"},{\"attributes\":{\"axis_label\":\"Unemployement\",\"bounds\":\"auto\",\"formatter\":{\"id\":\"13007\"},\"major_label_orientation\":\"horizontal\",\"ticker\":{\"id\":\"12980\"}},\"id\":\"12979\",\"type\":\"LinearAxis\"},{\"attributes\":{\"text\":\"Employement Levels per State\",\"text_color\":{\"value\":\"black\"},\"text_font_size\":{\"value\":\"12pt\"}},\"id\":\"12968\",\"type\":\"Title\"},{\"attributes\":{\"fill_alpha\":{\"value\":0.1},\"fill_color\":{\"value\":\"#440154\"},\"line_alpha\":{\"value\":0.1},\"top\":{\"field\":\"Unemployement\"},\"width\":{\"value\":0.8},\"x\":{\"field\":\"State\"}},\"id\":\"13000\",\"type\":\"VBar\"},{\"attributes\":{},\"id\":\"12972\",\"type\":\"CategoricalScale\"},{\"attributes\":{},\"id\":\"12987\",\"type\":\"ResetTool\"},{\"attributes\":{\"children\":[{\"id\":\"12963\"},{\"id\":\"12967\"},{\"id\":\"13024\"}],\"margin\":[0,0,0,0],\"name\":\"Row24424\",\"tags\":[\"embedded\"]},\"id\":\"12962\",\"type\":\"Row\"},{\"attributes\":{},\"id\":\"12974\",\"type\":\"LinearScale\"},{\"attributes\":{\"data\":{\"State\":[\"AK\",\"AL\",\"AR\",\"AZ\",\"CA\",\"CO\",\"CT\",\"DE\",\"FL\",\"GA\",\"HI\",\"IA\",\"ID\",\"IL\",\"IN\",\"KS\",\"KY\",\"LA\",\"MA\",\"MD\",\"ME\",\"MI\",\"MN\",\"MO\",\"MS\",\"MT\",\"NC\",\"ND\",\"NE\",\"NH\",\"NJ\",\"NM\",\"NV\",\"NY\",\"OH\",\"OK\",\"OR\",\"PA\",\"RI\",\"SC\",\"SD\",\"TN\",\"TX\",\"UT\",\"VA\",\"VT\",\"WA\",\"WI\",\"WV\",\"WY\"],\"Unemployement\":{\"__ndarray__\":\"BB5/OOBxIkAyyOaOKwkXQMmco91K6xNAFI0EfPNqHkCJSfECmZQaQMvMzMzMnAxA3t3d3d19E0CamZmZmZkSQI/NHVcSmBNAwUZdK6z8FkD///////8JQKMdpGglwwpAG9a+Ye2bEEDj2dnZ2VkWQED/6DamIBFAfEM3dEM3DEBL+qRP+qQYQERERERE0BlArdEardGaEUAMtmALtiAUQM3MzMzMTBFAxYnK00J3GED0DG4nz+AQQKVG9PrJ2xJAFZejcTmaG0DTGq3RGo0QQE0b6LSBzhVAl+UV9L79CEDAWc2b1bwHQB2F61G4HghArMRKrMRKFUDRgUtyDXoZQL+7u7u7uxVANm9W82a1FEBw0UUXXRQVQDC0cdU/oBFANTMzMzNzFkCW6bcmCGAVQBvotIFOGxNArTRhxebxFUBFCBAvq5sNQDLJoPFPkxVASajc9oPKEUCXAIVqCVARQEe9F/Ve1BFA92M/9mM/DEDeiZ3YiZ0ZQNeCLdiCbRFArNeReh2pGkBkfS/ARXIQQA==\",\"dtype\":\"float64\",\"order\":\"little\",\"shape\":[50]}},\"selected\":{\"id\":\"12997\"},\"selection_policy\":{\"id\":\"13014\"}},\"id\":\"12996\",\"type\":\"ColumnDataSource\"},{\"attributes\":{\"axis_label\":\"State\",\"bounds\":\"auto\",\"formatter\":{\"id\":\"13005\"},\"major_label_orientation\":\"horizontal\",\"ticker\":{\"id\":\"12977\"}},\"id\":\"12976\",\"type\":\"CategoricalAxis\"},{\"attributes\":{},\"id\":\"12977\",\"type\":\"CategoricalTicker\"},{\"attributes\":{\"margin\":[5,5,5,5],\"name\":\"HSpacer24428\",\"sizing_mode\":\"stretch_width\"},\"id\":\"12963\",\"type\":\"Spacer\"},{\"attributes\":{\"margin\":[5,5,5,5],\"name\":\"HSpacer24429\",\"sizing_mode\":\"stretch_width\"},\"id\":\"13024\",\"type\":\"Spacer\"},{\"attributes\":{\"axis\":{\"id\":\"12976\"},\"grid_line_color\":null,\"ticker\":null},\"id\":\"12978\",\"type\":\"Grid\"},{\"attributes\":{},\"id\":\"12980\",\"type\":\"BasicTicker\"},{\"attributes\":{\"axis\":{\"id\":\"12979\"},\"dimension\":1,\"grid_line_color\":null,\"ticker\":null},\"id\":\"12982\",\"type\":\"Grid\"},{\"attributes\":{\"fill_alpha\":{\"value\":0.2},\"fill_color\":{\"value\":\"#440154\"},\"line_alpha\":{\"value\":0.2},\"top\":{\"field\":\"Unemployement\"},\"width\":{\"value\":0.8},\"x\":{\"field\":\"State\"}},\"id\":\"13001\",\"type\":\"VBar\"},{\"attributes\":{\"bottom_units\":\"screen\",\"fill_alpha\":0.5,\"fill_color\":\"lightgrey\",\"left_units\":\"screen\",\"level\":\"overlay\",\"line_alpha\":1.0,\"line_color\":\"black\",\"line_dash\":[4,4],\"line_width\":2,\"right_units\":\"screen\",\"top_units\":\"screen\"},\"id\":\"12988\",\"type\":\"BoxAnnotation\"},{\"attributes\":{\"end\":9.847934742306267,\"reset_end\":9.847934742306267,\"reset_start\":0.0,\"tags\":[[[\"Unemployement\",\"Unemployement\",null]]]},\"id\":\"12965\",\"type\":\"Range1d\"},{\"attributes\":{},\"id\":\"13014\",\"type\":\"UnionRenderers\"},{\"attributes\":{},\"id\":\"13005\",\"type\":\"CategoricalTickFormatter\"},{\"attributes\":{\"active_drag\":\"auto\",\"active_inspect\":\"auto\",\"active_multi\":null,\"active_scroll\":\"auto\",\"active_tap\":\"auto\",\"tools\":[{\"id\":\"12966\"},{\"id\":\"12983\"},{\"id\":\"12984\"},{\"id\":\"12985\"},{\"id\":\"12986\"},{\"id\":\"12987\"}]},\"id\":\"12989\",\"type\":\"Toolbar\"},{\"attributes\":{\"data_source\":{\"id\":\"12996\"},\"glyph\":{\"id\":\"12999\"},\"hover_glyph\":null,\"muted_glyph\":{\"id\":\"13001\"},\"nonselection_glyph\":{\"id\":\"13000\"},\"selection_glyph\":null,\"view\":{\"id\":\"13003\"}},\"id\":\"13002\",\"type\":\"GlyphRenderer\"},{\"attributes\":{\"source\":{\"id\":\"12996\"}},\"id\":\"13003\",\"type\":\"CDSView\"},{\"attributes\":{},\"id\":\"12983\",\"type\":\"SaveTool\"},{\"attributes\":{\"factors\":[\"AK\",\"AL\",\"AR\",\"AZ\",\"CA\",\"CO\",\"CT\",\"DE\",\"FL\",\"GA\",\"HI\",\"IA\",\"ID\",\"IL\",\"IN\",\"KS\",\"KY\",\"LA\",\"MA\",\"MD\",\"ME\",\"MI\",\"MN\",\"MO\",\"MS\",\"MT\",\"NC\",\"ND\",\"NE\",\"NH\",\"NJ\",\"NM\",\"NV\",\"NY\",\"OH\",\"OK\",\"OR\",\"PA\",\"RI\",\"SC\",\"SD\",\"TN\",\"TX\",\"UT\",\"VA\",\"VT\",\"WA\",\"WI\",\"WV\",\"WY\"],\"tags\":[[[\"State\",\"State\",null]]]},\"id\":\"12964\",\"type\":\"FactorRange\"},{\"attributes\":{},\"id\":\"13007\",\"type\":\"BasicTickFormatter\"},{\"attributes\":{},\"id\":\"12997\",\"type\":\"Selection\"},{\"attributes\":{\"below\":[{\"id\":\"12976\"}],\"center\":[{\"id\":\"12978\"},{\"id\":\"12982\"}],\"left\":[{\"id\":\"12979\"}],\"margin\":[5,5,5,5],\"min_border_bottom\":10,\"min_border_left\":10,\"min_border_right\":10,\"min_border_top\":10,\"plot_height\":300,\"plot_width\":700,\"renderers\":[{\"id\":\"13002\"}],\"sizing_mode\":\"fixed\",\"title\":{\"id\":\"12968\"},\"toolbar\":{\"id\":\"12989\"},\"x_range\":{\"id\":\"12964\"},\"x_scale\":{\"id\":\"12972\"},\"y_range\":{\"id\":\"12965\"},\"y_scale\":{\"id\":\"12974\"}},\"id\":\"12967\",\"subtype\":\"Figure\",\"type\":\"Plot\"},{\"attributes\":{},\"id\":\"12984\",\"type\":\"PanTool\"},{\"attributes\":{\"callback\":null,\"renderers\":[{\"id\":\"13002\"}],\"tags\":[\"hv_created\"],\"tooltips\":[[\"State\",\"@{State}\"],[\"Unemployement\",\"@{Unemployement}\"]]},\"id\":\"12966\",\"type\":\"HoverTool\"},{\"attributes\":{},\"id\":\"12985\",\"type\":\"WheelZoomTool\"}],\"root_ids\":[\"12962\"]},\"title\":\"Bokeh Application\",\"version\":\"2.2.3\"}};\n",
       "    var render_items = [{\"docid\":\"c6f5a8f1-5d3c-4724-a14d-d7d184a55196\",\"root_ids\":[\"12962\"],\"roots\":{\"12962\":\"433cbeb8-2b00-4691-8f2e-a8ff24aa89e2\"}}];\n",
       "    root.Bokeh.embed.embed_items_notebook(docs_json, render_items);\n",
       "  }\n",
       "  if (root.Bokeh !== undefined && root.Bokeh.Panel !== undefined) {\n",
       "    embed_document(root);\n",
       "  } else {\n",
       "    var attempts = 0;\n",
       "    var timer = setInterval(function(root) {\n",
       "      if (root.Bokeh !== undefined && root.Bokeh.Panel !== undefined) {\n",
       "        clearInterval(timer);\n",
       "        embed_document(root);\n",
       "      } else if (document.readyState == \"complete\") {\n",
       "        attempts++;\n",
       "        if (attempts > 100) {\n",
       "          clearInterval(timer);\n",
       "          console.log(\"Bokeh: ERROR: Unable to run BokehJS code because BokehJS library is missing\");\n",
       "        }\n",
       "      }\n",
       "    }, 10, root)\n",
       "  }\n",
       "})(window);</script>"
      ],
      "text/plain": [
       ":Bars   [State]   (Unemployement)"
      ]
     },
     "execution_count": 255,
     "metadata": {
      "application/vnd.holoviews_exec.v0+json": {
       "id": "12962"
      }
     },
     "output_type": "execute_result"
    }
   ],
   "source": [
    "# Employment per State\n",
    "combined_group_3 = combined_df.groupby(['State']).mean()\n",
    "combined_group_3.head()\n",
    "employment_plot = combined_group_3.hvplot.bar(\n",
    "             x=\"State\",\n",
    "             y=\"Unemployement\",\n",
    "             colormap=\"viridis\",\n",
    "             title=\"Employement Levels per State\"\n",
    "    )\n",
    "employment_plot"
   ]
  },
  {
   "cell_type": "code",
   "execution_count": 256,
   "metadata": {},
   "outputs": [
    {
     "data": {},
     "metadata": {},
     "output_type": "display_data"
    },
    {
     "data": {
      "application/vnd.holoviews_exec.v0+json": "",
      "text/html": [
       "<div id='13066'>\n",
       "\n",
       "\n",
       "\n",
       "\n",
       "\n",
       "  <div class=\"bk-root\" id=\"7d6d241f-dd66-4770-a47f-13964a6e21cb\" data-root-id=\"13066\"></div>\n",
       "</div>\n",
       "<script type=\"application/javascript\">(function(root) {\n",
       "  function embed_document(root) {\n",
       "    var docs_json = {\"b1d69145-66d0-4bcb-8857-3fdd6fbff733\":{\"roots\":{\"references\":[{\"attributes\":{},\"id\":\"13084\",\"type\":\"BasicTicker\"},{\"attributes\":{\"children\":[{\"id\":\"13067\"},{\"id\":\"13071\"},{\"id\":\"13128\"}],\"margin\":[0,0,0,0],\"name\":\"Row24574\",\"tags\":[\"embedded\"]},\"id\":\"13066\",\"type\":\"Row\"},{\"attributes\":{\"axis_label\":\"Population_Estimate\",\"bounds\":\"auto\",\"formatter\":{\"id\":\"13111\"},\"major_label_orientation\":\"horizontal\",\"ticker\":{\"id\":\"13084\"}},\"id\":\"13083\",\"type\":\"LinearAxis\"},{\"attributes\":{\"source\":{\"id\":\"13100\"}},\"id\":\"13107\",\"type\":\"CDSView\"},{\"attributes\":{\"bottom_units\":\"screen\",\"fill_alpha\":0.5,\"fill_color\":\"lightgrey\",\"left_units\":\"screen\",\"level\":\"overlay\",\"line_alpha\":1.0,\"line_color\":\"black\",\"line_dash\":[4,4],\"line_width\":2,\"right_units\":\"screen\",\"top_units\":\"screen\"},\"id\":\"13092\",\"type\":\"BoxAnnotation\"},{\"attributes\":{\"fill_color\":{\"value\":\"#1f77b3\"},\"top\":{\"field\":\"Population_Estimate\"},\"width\":{\"value\":0.8},\"x\":{\"field\":\"State\"}},\"id\":\"13103\",\"type\":\"VBar\"},{\"attributes\":{\"margin\":[5,5,5,5],\"name\":\"HSpacer24578\",\"sizing_mode\":\"stretch_width\"},\"id\":\"13067\",\"type\":\"Spacer\"},{\"attributes\":{},\"id\":\"13101\",\"type\":\"Selection\"},{\"attributes\":{\"fill_alpha\":{\"value\":0.2},\"fill_color\":{\"value\":\"#1f77b3\"},\"line_alpha\":{\"value\":0.2},\"top\":{\"field\":\"Population_Estimate\"},\"width\":{\"value\":0.8},\"x\":{\"field\":\"State\"}},\"id\":\"13105\",\"type\":\"VBar\"},{\"attributes\":{\"margin\":[5,5,5,5],\"name\":\"HSpacer24579\",\"sizing_mode\":\"stretch_width\"},\"id\":\"13128\",\"type\":\"Spacer\"},{\"attributes\":{\"callback\":null,\"renderers\":[{\"id\":\"13106\"}],\"tags\":[\"hv_created\"],\"tooltips\":[[\"State\",\"@{State}\"],[\"Population_Estimate\",\"@{Population_Estimate}\"]]},\"id\":\"13070\",\"type\":\"HoverTool\"},{\"attributes\":{},\"id\":\"13087\",\"type\":\"SaveTool\"},{\"attributes\":{},\"id\":\"13088\",\"type\":\"PanTool\"},{\"attributes\":{},\"id\":\"13118\",\"type\":\"UnionRenderers\"},{\"attributes\":{},\"id\":\"13089\",\"type\":\"WheelZoomTool\"},{\"attributes\":{\"active_drag\":\"auto\",\"active_inspect\":\"auto\",\"active_multi\":null,\"active_scroll\":\"auto\",\"active_tap\":\"auto\",\"tools\":[{\"id\":\"13070\"},{\"id\":\"13087\"},{\"id\":\"13088\"},{\"id\":\"13089\"},{\"id\":\"13090\"},{\"id\":\"13091\"}]},\"id\":\"13093\",\"type\":\"Toolbar\"},{\"attributes\":{\"end\":252540268.5,\"reset_end\":252540268.5,\"reset_start\":0.0,\"tags\":[[[\"Population_Estimate\",\"Population_Estimate\",null]]]},\"id\":\"13069\",\"type\":\"Range1d\"},{\"attributes\":{\"overlay\":{\"id\":\"13092\"}},\"id\":\"13090\",\"type\":\"BoxZoomTool\"},{\"attributes\":{},\"id\":\"13111\",\"type\":\"BasicTickFormatter\"},{\"attributes\":{},\"id\":\"13109\",\"type\":\"CategoricalTickFormatter\"},{\"attributes\":{},\"id\":\"13076\",\"type\":\"CategoricalScale\"},{\"attributes\":{\"below\":[{\"id\":\"13080\"}],\"center\":[{\"id\":\"13082\"},{\"id\":\"13086\"}],\"left\":[{\"id\":\"13083\"}],\"margin\":[5,5,5,5],\"min_border_bottom\":10,\"min_border_left\":10,\"min_border_right\":10,\"min_border_top\":10,\"plot_height\":300,\"plot_width\":700,\"renderers\":[{\"id\":\"13106\"}],\"sizing_mode\":\"fixed\",\"title\":{\"id\":\"13072\"},\"toolbar\":{\"id\":\"13093\"},\"x_range\":{\"id\":\"13068\"},\"x_scale\":{\"id\":\"13076\"},\"y_range\":{\"id\":\"13069\"},\"y_scale\":{\"id\":\"13078\"}},\"id\":\"13071\",\"subtype\":\"Figure\",\"type\":\"Plot\"},{\"attributes\":{\"fill_alpha\":{\"value\":0.1},\"fill_color\":{\"value\":\"#1f77b3\"},\"line_alpha\":{\"value\":0.1},\"top\":{\"field\":\"Population_Estimate\"},\"width\":{\"value\":0.8},\"x\":{\"field\":\"State\"}},\"id\":\"13104\",\"type\":\"VBar\"},{\"attributes\":{\"data_source\":{\"id\":\"13100\"},\"glyph\":{\"id\":\"13103\"},\"hover_glyph\":null,\"muted_glyph\":{\"id\":\"13105\"},\"nonselection_glyph\":{\"id\":\"13104\"},\"selection_glyph\":null,\"view\":{\"id\":\"13107\"}},\"id\":\"13106\",\"type\":\"GlyphRenderer\"},{\"attributes\":{},\"id\":\"13091\",\"type\":\"ResetTool\"},{\"attributes\":{\"axis_label\":\"State\",\"bounds\":\"auto\",\"formatter\":{\"id\":\"13109\"},\"major_label_orientation\":\"horizontal\",\"ticker\":{\"id\":\"13081\"}},\"id\":\"13080\",\"type\":\"CategoricalAxis\"},{\"attributes\":{\"factors\":[\"CA\",\"TX\",\"FL\",\"NY\",\"PA\",\"IL\",\"OH\",\"GA\",\"NC\",\"MI\"],\"tags\":[[[\"State\",\"State\",null]]]},\"id\":\"13068\",\"type\":\"FactorRange\"},{\"attributes\":{},\"id\":\"13078\",\"type\":\"LinearScale\"},{\"attributes\":{\"axis\":{\"id\":\"13080\"},\"grid_line_color\":null,\"ticker\":null},\"id\":\"13082\",\"type\":\"Grid\"},{\"attributes\":{\"text\":\"Top 10 Most Populated States\",\"text_color\":{\"value\":\"black\"},\"text_font_size\":{\"value\":\"12pt\"}},\"id\":\"13072\",\"type\":\"Title\"},{\"attributes\":{},\"id\":\"13081\",\"type\":\"CategoricalTicker\"},{\"attributes\":{\"axis\":{\"id\":\"13083\"},\"dimension\":1,\"grid_line_color\":null,\"ticker\":null},\"id\":\"13086\",\"type\":\"Grid\"},{\"attributes\":{\"data\":{\"Population_Estimate\":{\"__ndarray__\":\"AAAAVBIErEEAAACWJg+kQQAAAMT4pZ1BAAAAzGYEnEEAAAC4M0ySQQAAANSxS5JBAAAAIB6pkEEAAAAY65qNQQAAACixNY1BAAAAiHR+jEE=\",\"dtype\":\"float64\",\"order\":\"little\",\"shape\":[10]},\"State\":[\"CA\",\"TX\",\"FL\",\"NY\",\"PA\",\"IL\",\"OH\",\"GA\",\"NC\",\"MI\"]},\"selected\":{\"id\":\"13101\"},\"selection_policy\":{\"id\":\"13118\"}},\"id\":\"13100\",\"type\":\"ColumnDataSource\"}],\"root_ids\":[\"13066\"]},\"title\":\"Bokeh Application\",\"version\":\"2.2.3\"}};\n",
       "    var render_items = [{\"docid\":\"b1d69145-66d0-4bcb-8857-3fdd6fbff733\",\"root_ids\":[\"13066\"],\"roots\":{\"13066\":\"7d6d241f-dd66-4770-a47f-13964a6e21cb\"}}];\n",
       "    root.Bokeh.embed.embed_items_notebook(docs_json, render_items);\n",
       "  }\n",
       "  if (root.Bokeh !== undefined && root.Bokeh.Panel !== undefined) {\n",
       "    embed_document(root);\n",
       "  } else {\n",
       "    var attempts = 0;\n",
       "    var timer = setInterval(function(root) {\n",
       "      if (root.Bokeh !== undefined && root.Bokeh.Panel !== undefined) {\n",
       "        clearInterval(timer);\n",
       "        embed_document(root);\n",
       "      } else if (document.readyState == \"complete\") {\n",
       "        attempts++;\n",
       "        if (attempts > 100) {\n",
       "          clearInterval(timer);\n",
       "          console.log(\"Bokeh: ERROR: Unable to run BokehJS code because BokehJS library is missing\");\n",
       "        }\n",
       "      }\n",
       "    }, 10, root)\n",
       "  }\n",
       "})(window);</script>"
      ],
      "text/plain": [
       ":Bars   [State]   (Population_Estimate)"
      ]
     },
     "execution_count": 256,
     "metadata": {
      "application/vnd.holoviews_exec.v0+json": {
       "id": "13066"
      }
     },
     "output_type": "execute_result"
    }
   ],
   "source": [
    "# Top 10 most populated States\n",
    "combined_group_4 = combined_df.groupby(['State']).sum()\n",
    "combined_group_4 = combined_group_4.drop(columns= [\"Unemployement\", \"Housing_Prices\", \"Net_Migration\"])\n",
    "combined_group_4 = combined_group_4.sort_values('Population_Estimate', ascending=False)\n",
    "combined_group_4 = combined_group_4.iloc[:10]\n",
    "combined_group_4.hvplot.bar(label=\"Top 10 Most Populated States\")"
   ]
  },
  {
   "cell_type": "markdown",
   "metadata": {},
   "source": [
    "# Pre-Processing via MinMax Scalar"
   ]
  },
  {
   "cell_type": "code",
   "execution_count": 257,
   "metadata": {},
   "outputs": [
    {
     "data": {
      "text/html": [
       "<div>\n",
       "<style scoped>\n",
       "    .dataframe tbody tr th:only-of-type {\n",
       "        vertical-align: middle;\n",
       "    }\n",
       "\n",
       "    .dataframe tbody tr th {\n",
       "        vertical-align: top;\n",
       "    }\n",
       "\n",
       "    .dataframe thead th {\n",
       "        text-align: right;\n",
       "    }\n",
       "</style>\n",
       "<table border=\"1\" class=\"dataframe\">\n",
       "  <thead>\n",
       "    <tr style=\"text-align: right;\">\n",
       "      <th></th>\n",
       "      <th>Population_Estimate</th>\n",
       "      <th>Unemployement</th>\n",
       "      <th>Net_Migration</th>\n",
       "      <th>Housing_Prices</th>\n",
       "    </tr>\n",
       "  </thead>\n",
       "  <tbody>\n",
       "    <tr>\n",
       "      <th>0</th>\n",
       "      <td>0.005423</td>\n",
       "      <td>0.209877</td>\n",
       "      <td>0.559462</td>\n",
       "      <td>0.006397</td>\n",
       "    </tr>\n",
       "    <tr>\n",
       "      <th>1</th>\n",
       "      <td>0.019701</td>\n",
       "      <td>0.222222</td>\n",
       "      <td>0.586564</td>\n",
       "      <td>0.030164</td>\n",
       "    </tr>\n",
       "    <tr>\n",
       "      <th>2</th>\n",
       "      <td>0.002639</td>\n",
       "      <td>0.403292</td>\n",
       "      <td>0.557739</td>\n",
       "      <td>0.003317</td>\n",
       "    </tr>\n",
       "    <tr>\n",
       "      <th>3</th>\n",
       "      <td>0.002223</td>\n",
       "      <td>0.267490</td>\n",
       "      <td>0.558916</td>\n",
       "      <td>0.002520</td>\n",
       "    </tr>\n",
       "    <tr>\n",
       "      <th>4</th>\n",
       "      <td>0.005684</td>\n",
       "      <td>0.222222</td>\n",
       "      <td>0.557879</td>\n",
       "      <td>0.006706</td>\n",
       "    </tr>\n",
       "  </tbody>\n",
       "</table>\n",
       "</div>"
      ],
      "text/plain": [
       "   Population_Estimate  Unemployement  Net_Migration  Housing_Prices\n",
       "0             0.005423       0.209877       0.559462        0.006397\n",
       "1             0.019701       0.222222       0.586564        0.030164\n",
       "2             0.002639       0.403292       0.557739        0.003317\n",
       "3             0.002223       0.267490       0.558916        0.002520\n",
       "4             0.005684       0.222222       0.557879        0.006706"
      ]
     },
     "execution_count": 257,
     "metadata": {},
     "output_type": "execute_result"
    }
   ],
   "source": [
    "# Scaling the data\n",
    "scaler = preprocessing.MinMaxScaler()\n",
    "names = combined_df.columns\n",
    "d = scaler.fit_transform(combined_df)\n",
    "scaled_df = pd.DataFrame(d, columns=names)\n",
    "scaled_df.head()"
   ]
  },
  {
   "cell_type": "code",
   "execution_count": 258,
   "metadata": {},
   "outputs": [
    {
     "name": "stdout",
     "output_type": "stream",
     "text": [
      "       Population_Estimate  Unemployement  Net_Migration  Housing_Prices\n",
      "count         18840.000000   18840.000000   18840.000000    18840.000000\n",
      "mean              0.010169       0.175643       0.560644        0.012140\n",
      "std               0.032664       0.082697       0.019461        0.035592\n",
      "min               0.000000       0.000000       0.000000        0.000000\n",
      "25%               0.001074       0.119342       0.557865        0.001522\n",
      "50%               0.002533       0.160494       0.558656        0.003482\n",
      "75%               0.006685       0.218107       0.559854        0.008769\n",
      "max               1.000000       1.000000       1.000000        1.000000\n"
     ]
    }
   ],
   "source": [
    "# Information about Scaled Data\n",
    "print(scaled_df.describe())"
   ]
  },
  {
   "cell_type": "markdown",
   "metadata": {},
   "source": [
    "# Correlation"
   ]
  },
  {
   "cell_type": "code",
   "execution_count": 259,
   "metadata": {},
   "outputs": [
    {
     "data": {
      "text/html": [
       "<div>\n",
       "<style scoped>\n",
       "    .dataframe tbody tr th:only-of-type {\n",
       "        vertical-align: middle;\n",
       "    }\n",
       "\n",
       "    .dataframe tbody tr th {\n",
       "        vertical-align: top;\n",
       "    }\n",
       "\n",
       "    .dataframe thead th {\n",
       "        text-align: right;\n",
       "    }\n",
       "</style>\n",
       "<table border=\"1\" class=\"dataframe\">\n",
       "  <thead>\n",
       "    <tr style=\"text-align: right;\">\n",
       "      <th></th>\n",
       "      <th>Population_Estimate</th>\n",
       "      <th>Unemployement</th>\n",
       "      <th>Net_Migration</th>\n",
       "      <th>Housing_Prices</th>\n",
       "    </tr>\n",
       "  </thead>\n",
       "  <tbody>\n",
       "    <tr>\n",
       "      <th>Population_Estimate</th>\n",
       "      <td>1.000000</td>\n",
       "      <td>-0.029099</td>\n",
       "      <td>-0.002303</td>\n",
       "      <td>0.993812</td>\n",
       "    </tr>\n",
       "    <tr>\n",
       "      <th>Unemployement</th>\n",
       "      <td>-0.029099</td>\n",
       "      <td>1.000000</td>\n",
       "      <td>-0.061175</td>\n",
       "      <td>-0.029266</td>\n",
       "    </tr>\n",
       "    <tr>\n",
       "      <th>Net_Migration</th>\n",
       "      <td>-0.002303</td>\n",
       "      <td>-0.061175</td>\n",
       "      <td>1.000000</td>\n",
       "      <td>0.018874</td>\n",
       "    </tr>\n",
       "    <tr>\n",
       "      <th>Housing_Prices</th>\n",
       "      <td>0.993812</td>\n",
       "      <td>-0.029266</td>\n",
       "      <td>0.018874</td>\n",
       "      <td>1.000000</td>\n",
       "    </tr>\n",
       "  </tbody>\n",
       "</table>\n",
       "</div>"
      ],
      "text/plain": [
       "                     Population_Estimate  Unemployement  Net_Migration  \\\n",
       "Population_Estimate             1.000000      -0.029099      -0.002303   \n",
       "Unemployement                  -0.029099       1.000000      -0.061175   \n",
       "Net_Migration                  -0.002303      -0.061175       1.000000   \n",
       "Housing_Prices                  0.993812      -0.029266       0.018874   \n",
       "\n",
       "                     Housing_Prices  \n",
       "Population_Estimate        0.993812  \n",
       "Unemployement             -0.029266  \n",
       "Net_Migration              0.018874  \n",
       "Housing_Prices             1.000000  "
      ]
     },
     "execution_count": 259,
     "metadata": {},
     "output_type": "execute_result"
    }
   ],
   "source": [
    "correlations = scaled_df.corr(method='pearson')\n",
    "correlations"
   ]
  },
  {
   "cell_type": "code",
   "execution_count": 260,
   "metadata": {},
   "outputs": [
    {
     "data": {
      "image/png": "[encoded data removed]",
      "text/plain": [
       "<Figure size 1080x576 with 2 Axes>"
      ]
     },
     "metadata": {
      "needs_background": "light"
     },
     "output_type": "display_data"
    }
   ],
   "source": [
    "# Correlation Matrix\n",
    "correlation_matrix = scaled_df.corr().round(2)\n",
    "plt.figure(figsize=(15,8))\n",
    "ax = sns.heatmap(data=correlation_matrix, vmin=-1, vmax=1, cmap=\"viridis\", annot=True, linewidth=0.1)"
   ]
  },
  {
   "cell_type": "code",
   "execution_count": 163,
   "metadata": {},
   "outputs": [
    {
     "data": {
      "text/plain": [
       "<seaborn.axisgrid.PairGrid at 0x7faa00dd9ad0>"
      ]
     },
     "execution_count": 163,
     "metadata": {},
     "output_type": "execute_result"
    },
    {
     "data": {
      "image/png": "[encoded data removed]",
      "text/plain": [
       "<Figure size 720x720 with 20 Axes>"
      ]
     },
     "metadata": {
      "needs_background": "light"
     },
     "output_type": "display_data"
    }
   ],
   "source": [
    "sns.pairplot(scaled_df)"
   ]
  },
  {
   "cell_type": "code",
   "execution_count": 164,
   "metadata": {},
   "outputs": [
    {
     "data": {
      "image/png": "[encoded data removed]",
      "text/plain": [
       "<Figure size 720x720 with 3 Axes>"
      ]
     },
     "metadata": {
      "needs_background": "light"
     },
     "output_type": "display_data"
    }
   ],
   "source": [
    "# Plots to understand the relationship between target variable and predictor variables\n",
    "features = scaled_df.drop('Housing_Prices', 1).columns\n",
    "target = scaled_df['Housing_Prices']\n",
    "plt.figure(figsize=(10,10))\n",
    "for index, feature_name in enumerate(features):\n",
    "    plt.subplot(3,len(features)/2, index+1)\n",
    "    plt.scatter(scaled_df[feature_name], target)\n",
    "    plt.xlabel(feature_name, fontsize=8)\n",
    "    plt.ylabel('Housing_Prices', fontsize=8)"
   ]
  },
  {
   "cell_type": "markdown",
   "metadata": {},
   "source": [
    "# Multiple Linear Regression"
   ]
  },
  {
   "cell_type": "code",
   "execution_count": 261,
   "metadata": {},
   "outputs": [],
   "source": [
    "# Defining the vaiables\n",
    "y=scaled_df[\"Housing_Prices\"]\n",
    "x=scaled_df[[\"Population_Estimate\",\"Unemployement\", \"Net_Migration\"]]"
   ]
  },
  {
   "cell_type": "code",
   "execution_count": 262,
   "metadata": {},
   "outputs": [
    {
     "name": "stdout",
     "output_type": "stream",
     "text": [
      "Training Data Count: 15072\n",
      "Testing Data Count: 3768\n"
     ]
    }
   ],
   "source": [
    "# Data Partitioning\n",
    "train_x, test_x, train_y, test_y = train_test_split(x, y, test_size = 0.2, random_state = 465) \n",
    "\n",
    "print('Training Data Count: {}'.format(train_x.shape[0]))\n",
    "print('Testing Data Count: {}'.format(test_x.shape[0]))"
   ]
  },
  {
   "cell_type": "code",
   "execution_count": 263,
   "metadata": {},
   "outputs": [
    {
     "name": "stderr",
     "output_type": "stream",
     "text": [
      "/Users/devinaamangal/Desktop/anaconda3/envs/pyvizenv/lib/python3.7/site-packages/numpy/core/fromnumeric.py:2580: FutureWarning: Method .ptp is deprecated and will be removed in a future version. Use numpy.ptp instead.\n",
      "  return ptp(axis=axis, out=out, **kwargs)\n"
     ]
    },
    {
     "data": {
      "text/html": [
       "<table class=\"simpletable\">\n",
       "<caption>OLS Regression Results</caption>\n",
       "<tr>\n",
       "  <th>Dep. Variable:</th>     <td>Housing_Prices</td>  <th>  R-squared:         </th>  <td>   0.988</td> \n",
       "</tr>\n",
       "<tr>\n",
       "  <th>Model:</th>                   <td>OLS</td>       <th>  Adj. R-squared:    </th>  <td>   0.988</td> \n",
       "</tr>\n",
       "<tr>\n",
       "  <th>Method:</th>             <td>Least Squares</td>  <th>  F-statistic:       </th>  <td>4.253e+05</td>\n",
       "</tr>\n",
       "<tr>\n",
       "  <th>Date:</th>             <td>Wed, 30 Dec 2020</td> <th>  Prob (F-statistic):</th>   <td>  0.00</td>  \n",
       "</tr>\n",
       "<tr>\n",
       "  <th>Time:</th>                 <td>00:53:19</td>     <th>  Log-Likelihood:    </th>  <td>  62287.</td> \n",
       "</tr>\n",
       "<tr>\n",
       "  <th>No. Observations:</th>      <td> 15072</td>      <th>  AIC:               </th> <td>-1.246e+05</td>\n",
       "</tr>\n",
       "<tr>\n",
       "  <th>Df Residuals:</th>          <td> 15068</td>      <th>  BIC:               </th> <td>-1.245e+05</td>\n",
       "</tr>\n",
       "<tr>\n",
       "  <th>Df Model:</th>              <td>     3</td>      <th>                     </th>      <td> </td>    \n",
       "</tr>\n",
       "<tr>\n",
       "  <th>Covariance Type:</th>      <td>nonrobust</td>    <th>                     </th>      <td> </td>    \n",
       "</tr>\n",
       "</table>\n",
       "<table class=\"simpletable\">\n",
       "<tr>\n",
       "           <td></td>              <th>coef</th>     <th>std err</th>      <th>t</th>      <th>P>|t|</th>  <th>[0.025</th>    <th>0.975]</th>  \n",
       "</tr>\n",
       "<tr>\n",
       "  <th>const</th>               <td>   -0.0194</td> <td>    0.001</td> <td>  -21.567</td> <td> 0.000</td> <td>   -0.021</td> <td>   -0.018</td>\n",
       "</tr>\n",
       "<tr>\n",
       "  <th>Population_Estimate</th> <td>    1.0810</td> <td>    0.001</td> <td> 1129.049</td> <td> 0.000</td> <td>    1.079</td> <td>    1.083</td>\n",
       "</tr>\n",
       "<tr>\n",
       "  <th>Unemployement</th>       <td>    0.0003</td> <td>    0.000</td> <td>    0.846</td> <td> 0.398</td> <td>   -0.000</td> <td>    0.001</td>\n",
       "</tr>\n",
       "<tr>\n",
       "  <th>Net_Migration</th>       <td>    0.0366</td> <td>    0.002</td> <td>   22.927</td> <td> 0.000</td> <td>    0.033</td> <td>    0.040</td>\n",
       "</tr>\n",
       "</table>\n",
       "<table class=\"simpletable\">\n",
       "<tr>\n",
       "  <th>Omnibus:</th>       <td>12331.684</td> <th>  Durbin-Watson:     </th>   <td>   2.002</td>  \n",
       "</tr>\n",
       "<tr>\n",
       "  <th>Prob(Omnibus):</th>  <td> 0.000</td>   <th>  Jarque-Bera (JB):  </th> <td>13770951.965</td>\n",
       "</tr>\n",
       "<tr>\n",
       "  <th>Skew:</th>           <td> 2.639</td>   <th>  Prob(JB):          </th>   <td>    0.00</td>  \n",
       "</tr>\n",
       "<tr>\n",
       "  <th>Kurtosis:</th>       <td>150.988</td>  <th>  Cond. No.          </th>   <td>    67.2</td>  \n",
       "</tr>\n",
       "</table><br/><br/>Notes:<br/>[1] Standard Errors assume that the covariance matrix of the errors is correctly specified."
      ],
      "text/plain": [
       "<class 'statsmodels.iolib.summary.Summary'>\n",
       "\"\"\"\n",
       "                            OLS Regression Results                            \n",
       "==============================================================================\n",
       "Dep. Variable:         Housing_Prices   R-squared:                       0.988\n",
       "Model:                            OLS   Adj. R-squared:                  0.988\n",
       "Method:                 Least Squares   F-statistic:                 4.253e+05\n",
       "Date:                Wed, 30 Dec 2020   Prob (F-statistic):               0.00\n",
       "Time:                        00:53:19   Log-Likelihood:                 62287.\n",
       "No. Observations:               15072   AIC:                        -1.246e+05\n",
       "Df Residuals:                   15068   BIC:                        -1.245e+05\n",
       "Df Model:                           3                                         \n",
       "Covariance Type:            nonrobust                                         \n",
       "=======================================================================================\n",
       "                          coef    std err          t      P>|t|      [0.025      0.975]\n",
       "---------------------------------------------------------------------------------------\n",
       "const                  -0.0194      0.001    -21.567      0.000      -0.021      -0.018\n",
       "Population_Estimate     1.0810      0.001   1129.049      0.000       1.079       1.083\n",
       "Unemployement           0.0003      0.000      0.846      0.398      -0.000       0.001\n",
       "Net_Migration           0.0366      0.002     22.927      0.000       0.033       0.040\n",
       "==============================================================================\n",
       "Omnibus:                    12331.684   Durbin-Watson:                   2.002\n",
       "Prob(Omnibus):                  0.000   Jarque-Bera (JB):         13770951.965\n",
       "Skew:                           2.639   Prob(JB):                         0.00\n",
       "Kurtosis:                     150.988   Cond. No.                         67.2\n",
       "==============================================================================\n",
       "\n",
       "Notes:\n",
       "[1] Standard Errors assume that the covariance matrix of the errors is correctly specified.\n",
       "\"\"\""
      ]
     },
     "execution_count": 263,
     "metadata": {},
     "output_type": "execute_result"
    }
   ],
   "source": [
    "# Regression\n",
    "train_x = sm.add_constant(train_x)\n",
    "results = sm.OLS(train_y, train_x).fit()\n",
    "results.summary()"
   ]
  },
  {
   "cell_type": "markdown",
   "metadata": {},
   "source": [
    "# Fitting the data into Test Data Set"
   ]
  },
  {
   "cell_type": "code",
   "execution_count": 264,
   "metadata": {},
   "outputs": [
    {
     "name": "stderr",
     "output_type": "stream",
     "text": [
      "/Users/devinaamangal/Desktop/anaconda3/envs/pyvizenv/lib/python3.7/site-packages/numpy/core/fromnumeric.py:2580: FutureWarning: Method .ptp is deprecated and will be removed in a future version. Use numpy.ptp instead.\n",
      "  return ptp(axis=axis, out=out, **kwargs)\n"
     ]
    },
    {
     "data": {
      "image/png": "[encoded data removed]",
      "text/plain": [
       "<Figure size 450x300 with 1 Axes>"
      ]
     },
     "metadata": {
      "needs_background": "light"
     },
     "output_type": "display_data"
    }
   ],
   "source": [
    "# Fitting Multiple Linear regression model to training model \n",
    "test_x = sm.add_constant(test_x)\n",
    "\n",
    "# Predicting the test set results \n",
    "pred_y = results.predict(test_x)\n",
    "\n",
    "# Plotting the prediction\n",
    "plt.figure(dpi = 75)\n",
    "plt.scatter(test_y, pred_y)\n",
    "plt.plot(pred_y, pred_y, color=\"red\")\n",
    "plt.xlabel(\"Actual Scores\")\n",
    "plt.ylabel(\"Estimated Scores\")\n",
    "plt.title(\"Model: Actual vs Estimated Scores\")\n",
    "plt.show()"
   ]
  },
  {
   "cell_type": "markdown",
   "metadata": {},
   "source": [
    "# Evaluation Metrics"
   ]
  },
  {
   "cell_type": "code",
   "execution_count": 265,
   "metadata": {},
   "outputs": [
    {
     "name": "stdout",
     "output_type": "stream",
     "text": [
      "MAE: 0.0014847870854072858\n",
      "MSE: 1.507173904766074e-05\n",
      "RMSE: 0.0038822337703519013\n"
     ]
    }
   ],
   "source": [
    "print('MAE:', metrics.mean_absolute_error(test_y, pred_y))\n",
    "print('MSE:', metrics.mean_squared_error(test_y, pred_y))\n",
    "print('RMSE:', np.sqrt(metrics.mean_squared_error(test_y, pred_y)))"
   ]
  },
  {
   "cell_type": "markdown",
   "metadata": {},
   "source": [
    "# Exporting final CSV"
   ]
  },
  {
   "cell_type": "code",
   "execution_count": 232,
   "metadata": {},
   "outputs": [],
   "source": [
    "combined_df.to_csv('combined.csv')"
   ]
  }
 ],
 "metadata": {
  "kernelspec": {
   "display_name": "Python 3",
   "language": "python",
   "name": "python3"
  },
  "language_info": {
   "codemirror_mode": {
    "name": "ipython",
    "version": 3
   },
   "file_extension": ".py",
   "mimetype": "text/x-python",
   "name": "python",
   "nbconvert_exporter": "python",
   "pygments_lexer": "ipython3",
   "version": "3.7.9"
  }
 },
 "nbformat": 4,
 "nbformat_minor": 4
}
